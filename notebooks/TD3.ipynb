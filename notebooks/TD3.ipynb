{
 "cells": [
  {
   "cell_type": "markdown",
   "id": "christian-momentum",
   "metadata": {},
   "source": [
    "# TD3"
   ]
  },
  {
   "cell_type": "markdown",
   "id": "brief-exhibit",
   "metadata": {},
   "source": [
    "## Classe abstraite"
   ]
  },
  {
   "cell_type": "code",
   "execution_count": null,
   "id": "mathematical-leave",
   "metadata": {},
   "outputs": [],
   "source": [
    "public abstract class Humain {\n",
    "    protected int age;\n",
    "    \n",
    "    public Humain(int age) { this.age = age; }\n",
    "    public int getAge() { return age; }\n",
    "    \n",
    "    public abstract String toString();\n",
    "}"
   ]
  },
  {
   "cell_type": "code",
   "execution_count": null,
   "id": "incorrect-hudson",
   "metadata": {},
   "outputs": [],
   "source": [
    "public class Etudiant extends Humain {\n",
    "    protected String nom;\n",
    "    protected String departement;\n",
    "\n",
    "    public Etudiant(String nom, int age, String departement) {\n",
    "        super(age);\n",
    "        this.nom = nom;\n",
    "        this.departement = departement;\n",
    "    }\n",
    "    public String getNom() { return nom; }\n",
    "    public String getDepartement() { return departement; }\n",
    "    \n",
    "    public String toString() { // obligatoire\n",
    "        return nom + \" \" + departement + \" (\" + age + \" ans)\";\n",
    "    }\n",
    "}"
   ]
  },
  {
   "cell_type": "markdown",
   "id": "bright-absence",
   "metadata": {},
   "source": [
    "## Interface"
   ]
  },
  {
   "cell_type": "code",
   "execution_count": null,
   "id": "stopped-clone",
   "metadata": {},
   "outputs": [],
   "source": [
    "public interface Oiseau {\n",
    "    void voler();\n",
    "}\n",
    "\n",
    "public interface Cheval {\n",
    "    void galoper();\n",
    "}"
   ]
  },
  {
   "cell_type": "code",
   "execution_count": null,
   "id": "material-david",
   "metadata": {},
   "outputs": [],
   "source": [
    "public class Aigle implements Oiseau {\n",
    "    public void voler() {\n",
    "        System.out.println(\"Aigle.voler()\");\n",
    "    }\n",
    "}"
   ]
  },
  {
   "cell_type": "code",
   "execution_count": null,
   "id": "proud-danger",
   "metadata": {},
   "outputs": [],
   "source": [
    "public class Pegase implements Oiseau, Cheval {\n",
    "    public void voler() {\n",
    "        System.out.println(\"Pegase.voler()\");\n",
    "    }\n",
    "    \n",
    "    public void galoper() {\n",
    "        System.out.println(\"Pegase.galoper()\");\n",
    "    }\n",
    "}"
   ]
  },
  {
   "cell_type": "code",
   "execution_count": null,
   "id": "foreign-forum",
   "metadata": {},
   "outputs": [],
   "source": [
    "Oiseau aigle = new Aigle();\n",
    "Oiseau pegaseOiseau = new Pegase();\n",
    "Cheval pegaseCheval = (Cheval)pegaseOiseau;\n",
    "\n",
    "aigle.voler();\n",
    "pegaseOiseau.voler();\n",
    "pegaseCheval.galoper();"
   ]
  },
  {
   "cell_type": "markdown",
   "id": "derived-insight",
   "metadata": {},
   "source": [
    "## Héritage d'interfaces"
   ]
  },
  {
   "cell_type": "code",
   "execution_count": null,
   "id": "infectious-saturn",
   "metadata": {},
   "outputs": [],
   "source": [
    "public interface CanEat {\n",
    "    void eat();\n",
    "}\n",
    "\n",
    "public interface CanMove {\n",
    "    void move();\n",
    "}\n",
    "\n",
    "public interface CanSpeak {\n",
    "    void speak();\n",
    "}\n",
    "\n",
    "public interface Animal extends CanEat, CanMove {}\n",
    "public interface Human extends Animal, CanSpeak {}"
   ]
  },
  {
   "cell_type": "code",
   "execution_count": null,
   "id": "level-builder",
   "metadata": {},
   "outputs": [],
   "source": [
    "public class Cat implements Animal {\n",
    "    public void eat() {}\n",
    "    public void move() {}\n",
    "}\n",
    "\n",
    "public class John implements Human {\n",
    "    public void eat() {}\n",
    "    public void move() {}\n",
    "    public void speak() {}\n",
    "}\n",
    "\n",
    "public class Garfield extends Cat implements CanSpeak {\n",
    "    public void speak() {}\n",
    "}"
   ]
  },
  {
   "cell_type": "code",
   "execution_count": null,
   "id": "smooth-timer",
   "metadata": {},
   "outputs": [],
   "source": []
  }
 ],
 "metadata": {
  "kernelspec": {
   "display_name": "Java",
   "language": "java",
   "name": "java"
  },
  "language_info": {
   "codemirror_mode": "java",
   "file_extension": ".jshell",
   "mimetype": "text/x-java-source",
   "name": "Java",
   "pygments_lexer": "java",
   "version": "11.0.7+10"
  }
 },
 "nbformat": 4,
 "nbformat_minor": 5
}
