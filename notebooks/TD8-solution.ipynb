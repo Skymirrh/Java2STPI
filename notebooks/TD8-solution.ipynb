{
 "cells": [
  {
   "cell_type": "markdown",
   "id": "criminal-litigation",
   "metadata": {},
   "source": [
    "# TD8"
   ]
  },
  {
   "cell_type": "markdown",
   "id": "genuine-necklace",
   "metadata": {},
   "source": [
    "## Tours de Hanoï"
   ]
  },
  {
   "cell_type": "code",
   "execution_count": null,
   "id": "married-baseline",
   "metadata": {},
   "outputs": [],
   "source": [
    "void deplacements(int n, String src, String tmp, String dest) {\n",
    "    if (n > 0) {\n",
    "        deplacements(n - 1, src, dest, tmp);\n",
    "        System.out.println(\"Déplace 1 élément de \" + src + \" vers \" + dest);\n",
    "        deplacements(n - 1, tmp, src, dest);\n",
    "    }\n",
    "}"
   ]
  },
  {
   "cell_type": "code",
   "execution_count": null,
   "id": "vital-cooler",
   "metadata": {},
   "outputs": [],
   "source": [
    "deplacements(1, \"T1\", \"T2\", \"T3\");"
   ]
  },
  {
   "cell_type": "code",
   "execution_count": null,
   "id": "loose-bulgarian",
   "metadata": {},
   "outputs": [],
   "source": [
    "deplacements(2, \"T1\", \"T2\", \"T3\");"
   ]
  },
  {
   "cell_type": "code",
   "execution_count": null,
   "id": "alien-dressing",
   "metadata": {},
   "outputs": [],
   "source": [
    "deplacements(3, \"T1\", \"T2\", \"T3\");"
   ]
  },
  {
   "cell_type": "code",
   "execution_count": null,
   "id": "boxed-tulsa",
   "metadata": {},
   "outputs": [],
   "source": [
    "deplacements(4, \"T1\", \"T2\", \"T3\");"
   ]
  },
  {
   "cell_type": "markdown",
   "id": "forward-senate",
   "metadata": {},
   "source": [
    "## Fibonnaci"
   ]
  },
  {
   "cell_type": "markdown",
   "id": "agricultural-southeast",
   "metadata": {},
   "source": [
    "### Récursive"
   ]
  },
  {
   "cell_type": "code",
   "execution_count": null,
   "id": "democratic-nomination",
   "metadata": {},
   "outputs": [],
   "source": [
    "int fibonnaci_recursive(int n) {\n",
    "    if (n==0) { return 0; }\n",
    "    else if (n==1) { return 1; }\n",
    "    else { return fibonnaci_recursive(n-1) + fibonnaci_recursive(n-2); }\n",
    "}"
   ]
  },
  {
   "cell_type": "code",
   "execution_count": null,
   "id": "foreign-partition",
   "metadata": {},
   "outputs": [],
   "source": [
    "for (int i = 0; i < 10; i++) {\n",
    "    System.out.println(\"i: \" + i + \" | f(i): \" + fibonnaci_recursive(i));\n",
    "}"
   ]
  },
  {
   "cell_type": "markdown",
   "id": "cutting-officer",
   "metadata": {},
   "source": [
    "### Dynamique"
   ]
  },
  {
   "cell_type": "code",
   "execution_count": null,
   "id": "coated-fraction",
   "metadata": {},
   "outputs": [],
   "source": [
    "int MAX = 100;\n",
    "private int[] memory = new int[MAX];\n",
    "\n",
    "memory[0] = 0;\n",
    "memory[1] = 1;\n",
    "for (int i = 2; i < MAX; i++) {\n",
    "    memory[i] = -1;\n",
    "}\n",
    "\n",
    "int fibonnaci_dynamic(int n) {\n",
    "    if (memory[n] == -1) {\n",
    "        memory[n] = fibonnaci_dynamic(n-1) + fibonnaci_dynamic(n-2);\n",
    "    }\n",
    "    return memory[n];\n",
    "}"
   ]
  },
  {
   "cell_type": "code",
   "execution_count": null,
   "id": "hybrid-technician",
   "metadata": {},
   "outputs": [],
   "source": [
    "for (int i = 0; i < 10; i++) {\n",
    "    System.out.println(\"i: \" + i + \" | f(i): \" + fibonnaci_dynamic(i));\n",
    "}"
   ]
  },
  {
   "cell_type": "markdown",
   "id": "difficult-printing",
   "metadata": {},
   "source": [
    "### Itérative"
   ]
  },
  {
   "cell_type": "code",
   "execution_count": null,
   "id": "mature-violation",
   "metadata": {},
   "outputs": [],
   "source": [
    "int fibonnaci_iterative(int n) {\n",
    "    if (n == 0) { return 0; }\n",
    "    else {\n",
    "        int fn = 1, fn_minus_1 = 0;\n",
    "        for (int i = 1; i < n; i++) {\n",
    "            int temp = fn;\n",
    "            fn = fn + fn_minus_1;\n",
    "            fn_minus_1 = temp;\n",
    "        }\n",
    "        return fn;\n",
    "    }\n",
    "}"
   ]
  },
  {
   "cell_type": "code",
   "execution_count": null,
   "id": "enclosed-singapore",
   "metadata": {},
   "outputs": [],
   "source": [
    "for (int i = 0; i < 10; i++) {\n",
    "    System.out.println(\"i: \" + i + \" | f(i): \" + fibonnaci_iterative(i));\n",
    "}"
   ]
  }
 ],
 "metadata": {
  "kernelspec": {
   "display_name": "Java",
   "language": "java",
   "name": "java"
  },
  "language_info": {
   "codemirror_mode": "java",
   "file_extension": ".jshell",
   "mimetype": "text/x-java-source",
   "name": "Java",
   "pygments_lexer": "java",
   "version": "11.0.7+10"
  }
 },
 "nbformat": 4,
 "nbformat_minor": 5
}
