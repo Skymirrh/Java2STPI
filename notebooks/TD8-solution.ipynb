{
 "cells": [
  {
   "cell_type": "markdown",
   "id": "angry-tennessee",
   "metadata": {},
   "source": [
    "# TD8"
   ]
  },
  {
   "cell_type": "markdown",
   "id": "judicial-brave",
   "metadata": {},
   "source": [
    "## Tours de Hanoï"
   ]
  },
  {
   "cell_type": "markdown",
   "id": "medieval-kennedy",
   "metadata": {},
   "source": [
    "Exemple : http://championmath.free.fr/tourhanoi.htm"
   ]
  },
  {
   "cell_type": "code",
   "execution_count": null,
   "id": "recovered-gathering",
   "metadata": {},
   "outputs": [],
   "source": [
    "void deplacements(int n, String src, String tmp, String dest) {\n",
    "    if (n > 0) {\n",
    "        deplacements(n - 1, src, dest, tmp);\n",
    "        System.out.println(\"Déplace 1 élément de \" + src + \" vers \" + dest);\n",
    "        deplacements(n - 1, tmp, src, dest);\n",
    "    }\n",
    "}"
   ]
  },
  {
   "cell_type": "code",
   "execution_count": null,
   "id": "cubic-breath",
   "metadata": {},
   "outputs": [],
   "source": [
    "deplacements(1, \"T1\", \"T2\", \"T3\");\n",
    "/* Doit afficher :\n",
    "Déplace 1 élément de T1 vers T3 */"
   ]
  },
  {
   "cell_type": "code",
   "execution_count": null,
   "id": "placed-gnome",
   "metadata": {},
   "outputs": [],
   "source": [
    "deplacements(2, \"T1\", \"T2\", \"T3\");\n",
    "/* Doit afficher :\n",
    "Déplace 1 élément de T1 vers T2\n",
    "Déplace 1 élément de T1 vers T3\n",
    "Déplace 1 élément de T2 vers T3 */"
   ]
  },
  {
   "cell_type": "code",
   "execution_count": null,
   "id": "absolute-allergy",
   "metadata": {},
   "outputs": [],
   "source": [
    "deplacements(3, \"T1\", \"T2\", \"T3\");\n",
    "/* Doit afficher :\n",
    "Déplace 1 élément de T1 vers T3\n",
    "Déplace 1 élément de T1 vers T2\n",
    "Déplace 1 élément de T3 vers T2\n",
    "Déplace 1 élément de T1 vers T3\n",
    "Déplace 1 élément de T2 vers T1\n",
    "Déplace 1 élément de T2 vers T3\n",
    "Déplace 1 élément de T1 vers T3 */"
   ]
  },
  {
   "cell_type": "code",
   "execution_count": null,
   "id": "infectious-exhibition",
   "metadata": {},
   "outputs": [],
   "source": [
    "deplacements(4, \"T1\", \"T2\", \"T3\");"
   ]
  },
  {
   "cell_type": "markdown",
   "id": "artistic-blond",
   "metadata": {},
   "source": [
    "## Fibonnaci"
   ]
  },
  {
   "cell_type": "markdown",
   "id": "expanded-horizontal",
   "metadata": {},
   "source": [
    "### Récursive"
   ]
  },
  {
   "cell_type": "code",
   "execution_count": null,
   "id": "vulnerable-yugoslavia",
   "metadata": {},
   "outputs": [],
   "source": [
    "int fibonnaci_recursive(int n) {\n",
    "    if (n==0) { return 0; }\n",
    "    else if (n==1) { return 1; }\n",
    "    else { return fibonnaci_recursive(n-1) + fibonnaci_recursive(n-2); }\n",
    "}"
   ]
  },
  {
   "cell_type": "code",
   "execution_count": null,
   "id": "forced-taylor",
   "metadata": {},
   "outputs": [],
   "source": [
    "for (int i = 0; i < 10; i++) {\n",
    "    System.out.println(\"i: \" + i + \" | f(i): \" + fibonnaci_recursive(i));\n",
    "}"
   ]
  },
  {
   "cell_type": "markdown",
   "id": "prepared-following",
   "metadata": {},
   "source": [
    "### Dynamique"
   ]
  },
  {
   "cell_type": "code",
   "execution_count": null,
   "id": "split-season",
   "metadata": {},
   "outputs": [],
   "source": [
    "int MAX = 100;\n",
    "private int[] memory = new int[MAX];\n",
    "\n",
    "memory[0] = 0;\n",
    "memory[1] = 1;\n",
    "\n",
    "int fibonnaci_dynamic(int n) {\n",
    "    if (n >= 2 && memory[n] == 0) {\n",
    "        memory[n] = fibonnaci_dynamic(n-1) + fibonnaci_dynamic(n-2);\n",
    "    }\n",
    "    return memory[n];\n",
    "}"
   ]
  },
  {
   "cell_type": "code",
   "execution_count": null,
   "id": "violent-bridge",
   "metadata": {},
   "outputs": [],
   "source": [
    "for (int i = 0; i < 10; i++) {\n",
    "    System.out.println(\"i: \" + i + \" | f(i): \" + fibonnaci_dynamic(i));\n",
    "}"
   ]
  },
  {
   "cell_type": "markdown",
   "id": "proud-handling",
   "metadata": {},
   "source": [
    "### Itérative"
   ]
  },
  {
   "cell_type": "code",
   "execution_count": null,
   "id": "favorite-shirt",
   "metadata": {},
   "outputs": [],
   "source": [
    "int fibonnaci_iterative(int n) {\n",
    "    if (n == 0) { return 0; }\n",
    "    int fn_minus_1 = 0;\n",
    "    int fn = 1;\n",
    "    for (int i = 1; i < n; i++) {\n",
    "        int fn_plus_1 = fn + fn_minus_1;\n",
    "        fn_minus_1 = fn;\n",
    "        fn = fn_plus_1;\n",
    "    }\n",
    "    return fn;\n",
    "}"
   ]
  },
  {
   "cell_type": "code",
   "execution_count": null,
   "id": "certified-allocation",
   "metadata": {},
   "outputs": [],
   "source": [
    "for (int i = 0; i < 10; i++) {\n",
    "    System.out.println(\"i: \" + i + \" | f(i): \" + fibonnaci_iterative(i));\n",
    "}"
   ]
  }
 ],
 "metadata": {
  "kernelspec": {
   "display_name": "Java",
   "language": "java",
   "name": "java"
  },
  "language_info": {
   "codemirror_mode": "java",
   "file_extension": ".jshell",
   "mimetype": "text/x-java-source",
   "name": "Java",
   "pygments_lexer": "java",
   "version": "11.0.7+10"
  }
 },
 "nbformat": 4,
 "nbformat_minor": 5
}
