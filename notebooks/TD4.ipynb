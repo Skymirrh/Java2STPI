{
 "cells": [
  {
   "cell_type": "markdown",
   "id": "perfect-eagle",
   "metadata": {},
   "source": [
    "# TD4"
   ]
  },
  {
   "cell_type": "markdown",
   "id": "civic-helmet",
   "metadata": {},
   "source": [
    "## Exceptions"
   ]
  },
  {
   "cell_type": "code",
   "execution_count": null,
   "id": "phantom-payment",
   "metadata": {},
   "outputs": [],
   "source": [
    "int[] tab = {2, 1, 0, -1};\n",
    "\n",
    "for (int val : tab) {\n",
    "    System.out.println(20 / val);\n",
    "}"
   ]
  },
  {
   "cell_type": "code",
   "execution_count": null,
   "id": "handmade-ukraine",
   "metadata": {},
   "outputs": [],
   "source": [
    "int[] tab = {4, 0, -1};\n",
    "int i = 0;\n",
    "\n",
    "while (i <= tab.length) {\n",
    "    System.out.println(tab[i]);\n",
    "    i++;\n",
    "}\n",
    "\n",
    "System.out.println(\"Done\");"
   ]
  },
  {
   "cell_type": "markdown",
   "id": "competitive-cliff",
   "metadata": {},
   "source": [
    "## `try` / `catch`"
   ]
  },
  {
   "cell_type": "code",
   "execution_count": null,
   "id": "arranged-serum",
   "metadata": {},
   "outputs": [],
   "source": [
    "int[] tab = {2, 1, 0, -1};\n",
    "\n",
    "try {\n",
    "    for (int val : tab) {\n",
    "        System.out.println(20 / val);\n",
    "    }\n",
    "} catch(ArithmeticException e) {\n",
    "    System.out.println(\"Division par zéro\");\n",
    "}\n",
    "\n",
    "System.out.println(\"Done\");"
   ]
  },
  {
   "cell_type": "code",
   "execution_count": null,
   "id": "vital-accessory",
   "metadata": {},
   "outputs": [],
   "source": [
    "int[] tab = {2, 1, 0, -1};\n",
    "\n",
    "for (int val : tab) {\n",
    "    try {\n",
    "        System.out.println(20 / val);\n",
    "    } catch(ArithmeticException e) {\n",
    "        System.out.println(\"Division par zéro\");\n",
    "    }\n",
    "}\n",
    "\n",
    "System.out.println(\"Done\");"
   ]
  },
  {
   "cell_type": "code",
   "execution_count": null,
   "id": "accurate-doctor",
   "metadata": {},
   "outputs": [],
   "source": [
    "int[] tab = {2, 1, 0, -1};\n",
    "\n",
    "static int division(int a, int b) {\n",
    "    return a / b;\n",
    "}\n",
    "\n",
    "try {\n",
    "    for (int val : tab) {\n",
    "        int res = division(20, val);\n",
    "        System.out.println(res);\n",
    "        // throw new RuntimeException(\"Bouh !\");\n",
    "    }\n",
    "} catch(ArithmeticException e) {\n",
    "    System.out.println(\"Division par zéro\");\n",
    "}\n",
    "\n",
    "System.out.println(\"Done\");"
   ]
  },
  {
   "cell_type": "markdown",
   "id": "increasing-education",
   "metadata": {},
   "source": [
    "Décommenter `throw new RuntimeException(\"Bouh !\");` dans l'exemple ci-dessus, et ré-exécuter :\n",
    "- Que se passe-t-il ?\n",
    "- Comment éviter que ça arrive ?"
   ]
  },
  {
   "cell_type": "markdown",
   "id": "charitable-helicopter",
   "metadata": {},
   "source": [
    "## `try` / `catch` / `finally`"
   ]
  },
  {
   "cell_type": "code",
   "execution_count": null,
   "id": "leading-updating",
   "metadata": {},
   "outputs": [],
   "source": [
    "int[] tab = {2, 1, 0, -1};\n",
    "\n",
    "static int division(int a, int b) {\n",
    "    return a / b;\n",
    "}\n",
    "\n",
    "try {\n",
    "    for (int val : tab) {\n",
    "        int res = division(20, val);\n",
    "        System.out.println(res);\n",
    "        // throw new RuntimeException(\"Bouh !\");\n",
    "    }\n",
    "} catch(ArithmeticException e) {\n",
    "    System.out.println(\"Division par zéro\");\n",
    "} finally {\n",
    "    System.out.println(\"Done\");\n",
    "}"
   ]
  },
  {
   "cell_type": "markdown",
   "id": "painted-chest",
   "metadata": {},
   "source": [
    "Décommenter `throw new RuntimeException(\"Bouh !\");` dans l'exemple ci-dessus, et ré-exécuter :\n",
    "- Quelle est la différence avec l'exemple sans `finally` ?"
   ]
  },
  {
   "cell_type": "markdown",
   "id": "hidden-maintenance",
   "metadata": {},
   "source": [
    "## `throw` et `throws`"
   ]
  },
  {
   "cell_type": "code",
   "execution_count": null,
   "id": "historical-canberra",
   "metadata": {},
   "outputs": [],
   "source": [
    "throw new ArithmeticException(\"#fakeNews\");"
   ]
  },
  {
   "cell_type": "code",
   "execution_count": null,
   "id": "revised-simpson",
   "metadata": {},
   "outputs": [],
   "source": [
    "int[] tab = {2, 1, 0, -1};\n",
    "\n",
    "static int division(int a, int b) throws ArithmeticException, IOException {\n",
    "    return a / b;\n",
    "}\n",
    "\n",
    "try {\n",
    "    for (int val : tab) {\n",
    "        int res = division(20, val);\n",
    "        System.out.println(res);\n",
    "    }\n",
    "} catch(ArithmeticException e) {\n",
    "    System.out.println(\"Division par zéro\");\n",
    "}\n",
    "finally {\n",
    "    System.out.println(\"Done\");\n",
    "}"
   ]
  },
  {
   "cell_type": "markdown",
   "id": "understanding-specific",
   "metadata": {},
   "source": [
    "# Lecture de fichiers"
   ]
  },
  {
   "cell_type": "code",
   "execution_count": null,
   "id": "nutritional-uncertainty",
   "metadata": {},
   "outputs": [],
   "source": [
    "try {\n",
    "    BufferedReader br = new BufferedReader(new FileReader(\"TD4-read.txt\"));\n",
    "    while (br.ready()) {\n",
    "        System.out.println(br.readLine());\n",
    "    }\n",
    "    br.close();\n",
    "} catch(FileNotFoundException e) {\n",
    "    System.out.println(e.getMessage());\n",
    "} catch(IOException e) {\n",
    "    e.printStackTrace();\n",
    "}"
   ]
  },
  {
   "cell_type": "markdown",
   "id": "empirical-professor",
   "metadata": {},
   "source": [
    "### Problème : en cas d'exception pendant l'accès au fichier, que se passe-t-il ?"
   ]
  },
  {
   "cell_type": "code",
   "execution_count": null,
   "id": "threatened-breakdown",
   "metadata": {},
   "outputs": [],
   "source": [
    "BufferedReader br;\n",
    "\n",
    "try {\n",
    "    br = new BufferedReader(new FileReader(\"TD4-read.txt\"));\n",
    "    while (br.ready()) {\n",
    "        System.out.println(br.readLine());\n",
    "    }\n",
    "} catch(FileNotFoundException e) {\n",
    "    System.out.println(e.getMessage());\n",
    "} catch(IOException e) {\n",
    "    e.printStackTrace();\n",
    "} finally {\n",
    "    if (br != null) {\n",
    "        try {\n",
    "            br.close();\n",
    "        } catch(IOException e) {\n",
    "            System.out.println(e.getMessage());\n",
    "        }\n",
    "    }\n",
    "}"
   ]
  },
  {
   "cell_type": "markdown",
   "id": "fiscal-plasma",
   "metadata": {},
   "source": [
    "### Version améliorée : `try-with-resources`"
   ]
  },
  {
   "cell_type": "code",
   "execution_count": null,
   "id": "pacific-saint",
   "metadata": {},
   "outputs": [],
   "source": [
    "try (BufferedReader br = new BufferedReader(new FileReader(\"TD4-read.txt\"))) {\n",
    "    while (br.ready()) {\n",
    "        System.out.println(br.readLine());\n",
    "    }\n",
    "} catch(FileNotFoundException e) {\n",
    "    System.out.println(e.getMessage());\n",
    "} catch(IOException e) {\n",
    "    e.printStackTrace();\n",
    "}"
   ]
  },
  {
   "cell_type": "markdown",
   "id": "therapeutic-attendance",
   "metadata": {},
   "source": [
    "## Écriture de fichiers"
   ]
  },
  {
   "cell_type": "code",
   "execution_count": null,
   "id": "framed-globe",
   "metadata": {},
   "outputs": [],
   "source": [
    "try (FileWriter fileWriter = new FileWriter(\"TD4-write.txt\", true)) {\n",
    "    fileWriter.write(\"Ce fichier est ecrit depuis Java !\");\n",
    "} catch (IOException e) {\n",
    "    e.printStackTrace();\n",
    "}"
   ]
  },
  {
   "cell_type": "markdown",
   "id": "seventh-andrew",
   "metadata": {},
   "source": [
    "## Entrée utilisateur"
   ]
  },
  {
   "cell_type": "code",
   "execution_count": null,
   "id": "advance-radiation",
   "metadata": {},
   "outputs": [],
   "source": [
    "try {\n",
    "    InputStreamReader isr = new InputStreamReader(System.in);\n",
    "    BufferedReader br = new BufferedReader(isr);\n",
    "    String str = br.readLine();\n",
    "    System.out.println(str);\n",
    "    System.out.println(str + 5);\n",
    "} catch(IOException e) {\n",
    "    throw e;\n",
    "}"
   ]
  },
  {
   "cell_type": "code",
   "execution_count": null,
   "id": "found-conditioning",
   "metadata": {},
   "outputs": [],
   "source": [
    "try {\n",
    "    InputStreamReader isr = new InputStreamReader(System.in);\n",
    "    BufferedReader br = new BufferedReader(isr);\n",
    "    String str = br.readLine();\n",
    "    int value = Integer.parseInt(str);\n",
    "    System.out.println(value + 5);\n",
    "} catch(IOException | NumberFormatException e) {\n",
    "    throw e;\n",
    "}"
   ]
  }
 ],
 "metadata": {
  "kernelspec": {
   "display_name": "Java",
   "language": "java",
   "name": "java"
  },
  "language_info": {
   "codemirror_mode": "java",
   "file_extension": ".jshell",
   "mimetype": "text/x-java-source",
   "name": "Java",
   "pygments_lexer": "java",
   "version": "11.0.7+10"
  }
 },
 "nbformat": 4,
 "nbformat_minor": 5
}
