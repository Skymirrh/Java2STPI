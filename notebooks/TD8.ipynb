{
 "cells": [
  {
   "cell_type": "markdown",
   "id": "passing-invitation",
   "metadata": {},
   "source": [
    "# TD8"
   ]
  },
  {
   "cell_type": "markdown",
   "id": "identical-excerpt",
   "metadata": {},
   "source": [
    "## Tours de Hanoï"
   ]
  },
  {
   "cell_type": "code",
   "execution_count": null,
   "id": "aquatic-reflection",
   "metadata": {},
   "outputs": [],
   "source": [
    "void deplacements(int n, String src, String tmp, String dest) {\n",
    "    System.out.println(\"Déplace 1 élément de \" + src + \" vers \" + dest); // à modifier\n",
    "}"
   ]
  },
  {
   "cell_type": "code",
   "execution_count": null,
   "id": "modular-queen",
   "metadata": {},
   "outputs": [],
   "source": [
    "deplacements(1, \"T1\", \"T2\", \"T3\");"
   ]
  },
  {
   "cell_type": "code",
   "execution_count": null,
   "id": "covered-olympus",
   "metadata": {},
   "outputs": [],
   "source": [
    "deplacements(2, \"T1\", \"T2\", \"T3\");"
   ]
  },
  {
   "cell_type": "code",
   "execution_count": null,
   "id": "oriental-worth",
   "metadata": {},
   "outputs": [],
   "source": [
    "deplacements(3, \"T1\", \"T2\", \"T3\");"
   ]
  },
  {
   "cell_type": "code",
   "execution_count": null,
   "id": "satellite-services",
   "metadata": {},
   "outputs": [],
   "source": [
    "deplacements(4, \"T1\", \"T2\", \"T3\");"
   ]
  },
  {
   "cell_type": "markdown",
   "id": "engaged-mathematics",
   "metadata": {},
   "source": [
    "## Fibonnaci"
   ]
  },
  {
   "cell_type": "markdown",
   "id": "curious-marshall",
   "metadata": {},
   "source": [
    "### Récursive"
   ]
  },
  {
   "cell_type": "code",
   "execution_count": null,
   "id": "military-study",
   "metadata": {},
   "outputs": [],
   "source": [
    "int fibonnaci_recursive(int n) {\n",
    "    return n; // à modifier\n",
    "}"
   ]
  },
  {
   "cell_type": "code",
   "execution_count": null,
   "id": "opposite-diameter",
   "metadata": {},
   "outputs": [],
   "source": [
    "for (int i = 0; i < 10; i++) {\n",
    "    System.out.println(\"i: \" + i + \" | f(i): \" + fibonnaci_recursive(i));\n",
    "}"
   ]
  },
  {
   "cell_type": "markdown",
   "id": "taken-traveler",
   "metadata": {},
   "source": [
    "### Dynamique"
   ]
  },
  {
   "cell_type": "code",
   "execution_count": null,
   "id": "scientific-garage",
   "metadata": {},
   "outputs": [],
   "source": [
    "int MAX = 100;\n",
    "private int[] memory = new int[MAX];\n",
    "\n",
    "// à modifier\n",
    "\n",
    "int fibonnaci_dynamic(int n) {\n",
    "    return memory[n]; // à modifier\n",
    "}"
   ]
  },
  {
   "cell_type": "code",
   "execution_count": null,
   "id": "encouraging-profession",
   "metadata": {},
   "outputs": [],
   "source": [
    "for (int i = 0; i < 10; i++) {\n",
    "    System.out.println(\"i: \" + i + \" | f(i): \" + fibonnaci_dynamic(i));\n",
    "}"
   ]
  },
  {
   "cell_type": "markdown",
   "id": "physical-triangle",
   "metadata": {},
   "source": [
    "### Itérative"
   ]
  },
  {
   "cell_type": "code",
   "execution_count": null,
   "id": "apparent-academy",
   "metadata": {},
   "outputs": [],
   "source": [
    "int fibonnaci_iterative(int n) {\n",
    "    return n; // à modifier\n",
    "}"
   ]
  },
  {
   "cell_type": "code",
   "execution_count": null,
   "id": "handed-gamma",
   "metadata": {},
   "outputs": [],
   "source": [
    "for (int i = 0; i < 10; i++) {\n",
    "    System.out.println(\"i: \" + i + \" | f(i): \" + fibonnaci_iterative(i));\n",
    "}"
   ]
  }
 ],
 "metadata": {
  "kernelspec": {
   "display_name": "Java",
   "language": "java",
   "name": "java"
  },
  "language_info": {
   "codemirror_mode": "java",
   "file_extension": ".jshell",
   "mimetype": "text/x-java-source",
   "name": "Java",
   "pygments_lexer": "java",
   "version": "11.0.7+10"
  }
 },
 "nbformat": 4,
 "nbformat_minor": 5
}
