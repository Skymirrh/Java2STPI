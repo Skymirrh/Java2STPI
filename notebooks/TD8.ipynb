{
 "cells": [
  {
   "cell_type": "markdown",
   "id": "significant-spoke",
   "metadata": {},
   "source": [
    "# TD8"
   ]
  },
  {
   "cell_type": "markdown",
   "id": "integral-deposit",
   "metadata": {},
   "source": [
    "## Tours de Hanoï"
   ]
  },
  {
   "cell_type": "markdown",
   "id": "distant-leather",
   "metadata": {},
   "source": [
    "Exemple : http://championmath.free.fr/tourhanoi.htm"
   ]
  },
  {
   "cell_type": "code",
   "execution_count": null,
   "id": "metallic-participant",
   "metadata": {},
   "outputs": [],
   "source": [
    "void deplacements(int n, String src, String tmp, String dest) {\n",
    "    System.out.println(\"Déplace 1 élément de \" + src + \" vers \" + dest); // à modifier\n",
    "}"
   ]
  },
  {
   "cell_type": "code",
   "execution_count": null,
   "id": "macro-darwin",
   "metadata": {},
   "outputs": [],
   "source": [
    "deplacements(1, \"T1\", \"T2\", \"T3\");\n",
    "/* Doit afficher :\n",
    "Déplace 1 élément de T1 vers T3 */"
   ]
  },
  {
   "cell_type": "code",
   "execution_count": null,
   "id": "fancy-result",
   "metadata": {},
   "outputs": [],
   "source": [
    "deplacements(2, \"T1\", \"T2\", \"T3\");\n",
    "/* Doit afficher :\n",
    "Déplace 1 élément de T1 vers T2\n",
    "Déplace 1 élément de T1 vers T3\n",
    "Déplace 1 élément de T2 vers T3 */"
   ]
  },
  {
   "cell_type": "code",
   "execution_count": null,
   "id": "separated-spanking",
   "metadata": {},
   "outputs": [],
   "source": [
    "deplacements(3, \"T1\", \"T2\", \"T3\");\n",
    "/* Doit afficher :\n",
    "Déplace 1 élément de T1 vers T3\n",
    "Déplace 1 élément de T1 vers T2\n",
    "Déplace 1 élément de T3 vers T2\n",
    "Déplace 1 élément de T1 vers T3\n",
    "Déplace 1 élément de T2 vers T1\n",
    "Déplace 1 élément de T2 vers T3\n",
    "Déplace 1 élément de T1 vers T3 */"
   ]
  },
  {
   "cell_type": "code",
   "execution_count": null,
   "id": "emotional-alexandria",
   "metadata": {},
   "outputs": [],
   "source": [
    "deplacements(4, \"T1\", \"T2\", \"T3\");"
   ]
  },
  {
   "cell_type": "markdown",
   "id": "equal-marshall",
   "metadata": {},
   "source": [
    "## Fibonnaci"
   ]
  },
  {
   "cell_type": "markdown",
   "id": "impossible-january",
   "metadata": {},
   "source": [
    "### Récursive"
   ]
  },
  {
   "cell_type": "code",
   "execution_count": null,
   "id": "documentary-puzzle",
   "metadata": {},
   "outputs": [],
   "source": [
    "int fibonnaci_recursive(int n) {\n",
    "    return n; // à modifier\n",
    "}"
   ]
  },
  {
   "cell_type": "code",
   "execution_count": null,
   "id": "general-portland",
   "metadata": {},
   "outputs": [],
   "source": [
    "for (int i = 0; i < 10; i++) {\n",
    "    System.out.println(\"i: \" + i + \" | f(i): \" + fibonnaci_recursive(i));\n",
    "}"
   ]
  },
  {
   "cell_type": "markdown",
   "id": "natural-manhattan",
   "metadata": {},
   "source": [
    "### Dynamique"
   ]
  },
  {
   "cell_type": "code",
   "execution_count": null,
   "id": "prepared-genesis",
   "metadata": {},
   "outputs": [],
   "source": [
    "int MAX = 100;\n",
    "private int[] memory = new int[MAX];\n",
    "\n",
    "// à modifier\n",
    "\n",
    "int fibonnaci_dynamic(int n) {\n",
    "    return memory[n]; // à modifier\n",
    "}"
   ]
  },
  {
   "cell_type": "code",
   "execution_count": null,
   "id": "monthly-indicator",
   "metadata": {},
   "outputs": [],
   "source": [
    "for (int i = 0; i < 10; i++) {\n",
    "    System.out.println(\"i: \" + i + \" | f(i): \" + fibonnaci_dynamic(i));\n",
    "}"
   ]
  },
  {
   "cell_type": "markdown",
   "id": "abandoned-transfer",
   "metadata": {},
   "source": [
    "### Itérative"
   ]
  },
  {
   "cell_type": "code",
   "execution_count": null,
   "id": "sufficient-separation",
   "metadata": {},
   "outputs": [],
   "source": [
    "int fibonnaci_iterative(int n) {\n",
    "    return n; // à modifier\n",
    "}"
   ]
  },
  {
   "cell_type": "code",
   "execution_count": null,
   "id": "digital-oakland",
   "metadata": {},
   "outputs": [],
   "source": [
    "for (int i = 0; i < 10; i++) {\n",
    "    System.out.println(\"i: \" + i + \" | f(i): \" + fibonnaci_iterative(i));\n",
    "}"
   ]
  }
 ],
 "metadata": {
  "kernelspec": {
   "display_name": "Java",
   "language": "java",
   "name": "java"
  },
  "language_info": {
   "codemirror_mode": "java",
   "file_extension": ".jshell",
   "mimetype": "text/x-java-source",
   "name": "Java",
   "pygments_lexer": "java",
   "version": "11.0.7+10"
  }
 },
 "nbformat": 4,
 "nbformat_minor": 5
}
