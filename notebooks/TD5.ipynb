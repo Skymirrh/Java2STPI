{
 "cells": [
  {
   "cell_type": "markdown",
   "id": "published-semester",
   "metadata": {},
   "source": [
    "# TD5"
   ]
  },
  {
   "cell_type": "markdown",
   "id": "painted-agent",
   "metadata": {},
   "source": [
    "## Interface `Collection`"
   ]
  },
  {
   "cell_type": "code",
   "execution_count": null,
   "id": "packed-breakdown",
   "metadata": {},
   "outputs": [],
   "source": [
    "Collection c = new ArrayList();\n",
    "c.add(\"un\");\n",
    "c.add(\"deux\");\n",
    "c.add(3);\n",
    "c.add(\"deux\");\n",
    "\n",
    "System.out.println(c);"
   ]
  },
  {
   "cell_type": "code",
   "execution_count": null,
   "id": "general-calvin",
   "metadata": {},
   "outputs": [],
   "source": [
    "System.out.println(c.contains(\"un\"));\n",
    "c.remove(\"un\");\n",
    "System.out.println(c.contains(\"un\"));"
   ]
  },
  {
   "cell_type": "markdown",
   "id": "vulnerable-orbit",
   "metadata": {},
   "source": [
    "## Interface `List`"
   ]
  },
  {
   "cell_type": "code",
   "execution_count": null,
   "id": "armed-prayer",
   "metadata": {},
   "outputs": [],
   "source": [
    "List l = new ArrayList();\n",
    "l.add(\"un\");\n",
    "l.add(\"deux\");\n",
    "l.add(3);\n",
    "l.add(\"deux\");\n",
    "\n",
    "System.out.println(l);"
   ]
  },
  {
   "cell_type": "code",
   "execution_count": null,
   "id": "meaningful-tumor",
   "metadata": {},
   "outputs": [],
   "source": [
    "System.out.println(l.contains(\"un\"));\n",
    "System.out.println(l.get(0));\n",
    "l.remove(\"un\");\n",
    "System.out.println(l.contains(\"un\"));\n",
    "System.out.println(l.get(0));"
   ]
  },
  {
   "cell_type": "code",
   "execution_count": null,
   "id": "weighted-eleven",
   "metadata": {},
   "outputs": [],
   "source": [
    "System.out.println(l.get(0).length());"
   ]
  },
  {
   "cell_type": "code",
   "execution_count": null,
   "id": "coupled-broadcasting",
   "metadata": {},
   "outputs": [],
   "source": [
    "Object o = l.get(0);\n",
    "String s = (String)o;\n",
    "System.out.println(s.length());"
   ]
  },
  {
   "cell_type": "markdown",
   "id": "understanding-wallace",
   "metadata": {},
   "source": [
    "## Interface `Set`"
   ]
  },
  {
   "cell_type": "code",
   "execution_count": null,
   "id": "pressed-prerequisite",
   "metadata": {},
   "outputs": [],
   "source": [
    "Set s = new HashSet();\n",
    "s.add(\"un\");\n",
    "s.add(\"deux\");\n",
    "s.add(3);\n",
    "s.add(\"deux\");\n",
    "\n",
    "System.out.println(s);"
   ]
  },
  {
   "cell_type": "code",
   "execution_count": null,
   "id": "linear-butter",
   "metadata": {},
   "outputs": [],
   "source": [
    "System.out.println(s.contains(\"un\"));\n",
    "s.remove(\"un\");\n",
    "System.out.println(s.contains(\"un\"));"
   ]
  },
  {
   "cell_type": "markdown",
   "id": "paperback-deposit",
   "metadata": {},
   "source": [
    "## Interface `Iterator`"
   ]
  },
  {
   "cell_type": "code",
   "execution_count": null,
   "id": "massive-slovakia",
   "metadata": {},
   "outputs": [],
   "source": [
    "Collection c = new HashSet();\n",
    "c.add(\"un\");\n",
    "c.add(\"deux\");\n",
    "c.add(3);\n",
    "c.add(\"deux\");\n",
    "\n",
    "System.out.println(c);"
   ]
  },
  {
   "cell_type": "code",
   "execution_count": null,
   "id": "italian-string",
   "metadata": {},
   "outputs": [],
   "source": [
    "Iterator it = c.iterator();\n",
    "while (it.hasNext()) {\n",
    "    System.out.println(it.next());\n",
    "}"
   ]
  },
  {
   "cell_type": "code",
   "execution_count": null,
   "id": "graphic-county",
   "metadata": {},
   "outputs": [],
   "source": [
    "Iterator it = c.iterator();\n",
    "while (it.hasNext()) {\n",
    "    System.out.print(it.next().getClass());\n",
    "    System.out.println(\" - \" + it.next());\n",
    "}"
   ]
  },
  {
   "cell_type": "code",
   "execution_count": null,
   "id": "discrete-license",
   "metadata": {},
   "outputs": [],
   "source": [
    "Iterator it = c.iterator();\n",
    "while (it.hasNext()) {\n",
    "    Object o = it.next();\n",
    "    System.out.println(o.getClass() + \" - \" + o);\n",
    "}"
   ]
  },
  {
   "cell_type": "code",
   "execution_count": null,
   "id": "single-craps",
   "metadata": {},
   "outputs": [],
   "source": [
    "for (Object o : c) {\n",
    "    System.out.println(o.getClass() + \" - \" + o);\n",
    "}"
   ]
  },
  {
   "cell_type": "markdown",
   "id": "played-discovery",
   "metadata": {},
   "source": [
    "## Classe statique `Collections`"
   ]
  },
  {
   "cell_type": "code",
   "execution_count": null,
   "id": "italian-enclosure",
   "metadata": {},
   "outputs": [],
   "source": [
    "List c = new ArrayList();\n",
    "c.add(2);\n",
    "c.add(3);\n",
    "c.add(1);\n",
    "\n",
    "System.out.println(c);"
   ]
  },
  {
   "cell_type": "code",
   "execution_count": null,
   "id": "tired-external",
   "metadata": {},
   "outputs": [],
   "source": [
    "Collections.reverse(c);\n",
    "System.out.println(c);"
   ]
  },
  {
   "cell_type": "code",
   "execution_count": null,
   "id": "altered-commission",
   "metadata": {},
   "outputs": [],
   "source": [
    "Collections.sort(c);\n",
    "System.out.println(c);"
   ]
  },
  {
   "cell_type": "code",
   "execution_count": null,
   "id": "sporting-feedback",
   "metadata": {},
   "outputs": [],
   "source": [
    "System.out.println(Collections.min(c));\n",
    "System.out.println(Collections.max(c));"
   ]
  },
  {
   "cell_type": "markdown",
   "id": "classical-terminology",
   "metadata": {},
   "source": [
    "## Interface `Map` (dictionnaires)"
   ]
  },
  {
   "cell_type": "code",
   "execution_count": null,
   "id": "invalid-obligation",
   "metadata": {},
   "outputs": [],
   "source": [
    "Map larousse = new HashMap();\n",
    "larousse.put(\"fun\", \"Familier. Le fun, le plaisir, l'amusement.\");\n",
    "larousse.put(\"pratique\", \"Application, exécution, mise en action des règles.\");\n",
    "larousse.put(\"ennuyeux\", \"Qui cause de la lassitude, de la fatigue par sa monotonie, son manque d'intérêt ; assommant\");\n",
    "larousse.put(2, \"le chiffre deux\");\n",
    "\n",
    "System.out.println(larousse);"
   ]
  },
  {
   "cell_type": "code",
   "execution_count": null,
   "id": "exact-boulder",
   "metadata": {},
   "outputs": [],
   "source": [
    "System.out.println(larousse.size());\n",
    "System.out.println(larousse.containsKey(\"ennuyeux\"));\n",
    "System.out.println(larousse.get(\"fun\"));"
   ]
  },
  {
   "cell_type": "code",
   "execution_count": null,
   "id": "adaptive-membership",
   "metadata": {},
   "outputs": [],
   "source": [
    "larousse.remove(\"ennuyeux\");"
   ]
  },
  {
   "cell_type": "code",
   "execution_count": null,
   "id": "elder-directory",
   "metadata": {},
   "outputs": [],
   "source": [
    "System.out.println(larousse.size());\n",
    "System.out.println(larousse.containsKey(\"ennuyeux\"));"
   ]
  },
  {
   "cell_type": "code",
   "execution_count": null,
   "id": "ultimate-outside",
   "metadata": {},
   "outputs": [],
   "source": [
    "System.out.println(\"Quelle est la réponse à la grande question sur la vie, l'univers et le reste ?\");\n",
    "System.out.println(larousse.get(\"fun\").length());"
   ]
  },
  {
   "cell_type": "markdown",
   "id": "proper-daniel",
   "metadata": {},
   "source": [
    "## Collections génériques : `Collection<E>`"
   ]
  },
  {
   "cell_type": "code",
   "execution_count": null,
   "id": "alive-stupid",
   "metadata": {},
   "outputs": [],
   "source": [
    "Collection c = new HashSet();\n",
    "c.add(\"un\");\n",
    "c.add(\"deux\");\n",
    "c.add(3);\n",
    "c.add(\"deux\");\n",
    "\n",
    "System.out.println(c);"
   ]
  },
  {
   "cell_type": "code",
   "execution_count": null,
   "id": "uniform-metropolitan",
   "metadata": {},
   "outputs": [],
   "source": [
    "System.out.println(Collections.max(c));"
   ]
  },
  {
   "cell_type": "code",
   "execution_count": null,
   "id": "fitting-bulgarian",
   "metadata": {},
   "outputs": [],
   "source": [
    "for (Object o : c) {\n",
    "    //if (o instanceof String) {\n",
    "        String s = (String)o;\n",
    "        System.out.println(s.length());\n",
    "    //}\n",
    "}"
   ]
  },
  {
   "cell_type": "code",
   "execution_count": null,
   "id": "comfortable-costs",
   "metadata": {},
   "outputs": [],
   "source": [
    "Collection<String> cString = new ArrayList<String>();\n",
    "cString.add(\"un\");\n",
    "cString.add(\"deux\");\n",
    "cString.add(3);\n",
    "cString.add(\"deux\");\n",
    "\n",
    "System.out.println(cString);"
   ]
  },
  {
   "cell_type": "code",
   "execution_count": null,
   "id": "spread-cardiff",
   "metadata": {},
   "outputs": [],
   "source": [
    "for (String s : cString) {\n",
    "    System.out.println(s.length());\n",
    "}"
   ]
  },
  {
   "cell_type": "code",
   "execution_count": null,
   "id": "vulnerable-dispute",
   "metadata": {},
   "outputs": [],
   "source": [
    "List<String> listString = new ArrayList<String>();\n",
    "listString.add(\"un\");\n",
    "listString.add(\"deux\");\n",
    "listString.add(\"deux\");\n",
    "\n",
    "System.out.println(listString);"
   ]
  },
  {
   "cell_type": "code",
   "execution_count": null,
   "id": "statistical-kingston",
   "metadata": {},
   "outputs": [],
   "source": [
    "System.out.println(listString.get(0).length());"
   ]
  },
  {
   "cell_type": "code",
   "execution_count": null,
   "id": "apart-marshall",
   "metadata": {},
   "outputs": [],
   "source": [
    "Collection<String> listString = new ArrayList<String>();\n",
    "Collection<Integer> listInteger = new ArrayList<Integer>();\n",
    "\n",
    "System.out.println(listString.getClass().getName());\n",
    "System.out.println(listInteger.getClass().getName());\n",
    "System.out.println(listString.getClass() == listInteger.getClass());"
   ]
  },
  {
   "cell_type": "code",
   "execution_count": null,
   "id": "encouraging-liver",
   "metadata": {},
   "outputs": [],
   "source": [
    "interface Figure {\n",
    "    void dessiner();\n",
    "}\n",
    "\n",
    "class Rectangle implements Figure {\n",
    "    public void dessiner() { System.out.println(\"Rectangle\"); }\n",
    "}\n",
    "class Carre extends Rectangle {\n",
    "    public void dessiner() { System.out.println(\"Carre\"); }\n",
    "}\n",
    "\n",
    "void dessinerListeFigure(List<? extends Figure> listeFigure) {\n",
    "    for (Figure f : listeFigure) {\n",
    "        f.dessiner();\n",
    "    }\n",
    "}"
   ]
  },
  {
   "cell_type": "code",
   "execution_count": null,
   "id": "comfortable-christmas",
   "metadata": {},
   "outputs": [],
   "source": [
    "List<Rectangle> liste = new ArrayList<Rectangle>();\n",
    "liste.add(new Rectangle());\n",
    "liste.add(new Carre());\n",
    "\n",
    "dessinerListeFigure(liste);"
   ]
  },
  {
   "cell_type": "code",
   "execution_count": null,
   "id": "cubic-edmonton",
   "metadata": {},
   "outputs": [],
   "source": [
    "List<Integer> liste = new ArrayList<Integer>();\n",
    "liste.add(1);\n",
    "liste.add(2);\n",
    "\n",
    "dessinerListeFigure(liste);"
   ]
  },
  {
   "cell_type": "markdown",
   "id": "promising-house",
   "metadata": {},
   "source": [
    "## Dictionnaires génériques : `Map<K, V>`"
   ]
  },
  {
   "cell_type": "code",
   "execution_count": null,
   "id": "postal-sponsorship",
   "metadata": {},
   "outputs": [],
   "source": [
    "Map<String, String> larousseGenerique = new HashMap<>();\n",
    "larousseGenerique.put(\"fun\", \"Familier. Le fun, le plaisir, l'amusement.\");\n",
    "larousseGenerique.put(\"pratique\", \"Application, exécution, mise en action des règles.\");\n",
    "larousseGenerique.put(\"ennuyeux\", \"Qui cause de la lassitude, de la fatigue par sa monotonie, son manque d'intérêt ; assommant\");\n",
    "//larousseGenerique.put(2, \"le chiffre deux\");\n",
    "\n",
    "System.out.println(larousseGenerique);"
   ]
  },
  {
   "cell_type": "code",
   "execution_count": null,
   "id": "usual-aberdeen",
   "metadata": {},
   "outputs": [],
   "source": [
    "System.out.println(larousseGenerique.size());\n",
    "System.out.println(larousseGenerique.containsKey(\"ennuyeux\"));\n",
    "System.out.println(larousseGenerique.get(\"fun\"));"
   ]
  },
  {
   "cell_type": "code",
   "execution_count": null,
   "id": "religious-adjustment",
   "metadata": {},
   "outputs": [],
   "source": [
    "System.out.println(\"Quelle est la réponse à la grande question sur la vie, l'univers et le reste ?\");\n",
    "System.out.println(larousseGenerique.get(\"fun\").length());"
   ]
  },
  {
   "cell_type": "markdown",
   "id": "aging-listing",
   "metadata": {},
   "source": [
    "## Astuces"
   ]
  },
  {
   "cell_type": "markdown",
   "id": "stunning-david",
   "metadata": {},
   "source": [
    "### Typage implicite des constructeurs génériques\n",
    "\n",
    "Il n'est pas nécessaire de préciser le type complet de l'objet, le compilateur est suffisamment intelligent pour inférer le bon type grâce au type de la variable :"
   ]
  },
  {
   "cell_type": "code",
   "execution_count": null,
   "id": "parallel-desire",
   "metadata": {},
   "outputs": [],
   "source": [
    "Collection<String> col1 = new ArrayList<String>();\n",
    "Collection<String> col2 = new ArrayList<>(); // équivalent à col1 : sera bien un ArrayList<String>"
   ]
  },
  {
   "cell_type": "code",
   "execution_count": null,
   "id": "christian-baking",
   "metadata": {},
   "outputs": [],
   "source": [
    "col2.add(\"un\");\n",
    "col2.add(2);"
   ]
  },
  {
   "cell_type": "markdown",
   "id": "marine-qualification",
   "metadata": {},
   "source": [
    "### Constructeur par recopie\n",
    "\n",
    "On peut recopier tous les éléments d'une collection dans une autre collection grâce au constructeur par recopie fourni par une grande partie des classes concrètes de l'arborescence des collections :"
   ]
  },
  {
   "cell_type": "code",
   "execution_count": null,
   "id": "complimentary-campaign",
   "metadata": {},
   "outputs": [],
   "source": [
    "Collection<String> c = new ArrayList<>();\n",
    "c.add(\"un\");\n",
    "c.add(\"deux\");\n",
    "c.add(\"trois\");\n",
    "\n",
    "Collection<String> c2 = new ArrayList<>(c);\n",
    "\n",
    "System.out.println(c);\n",
    "System.out.println(c2);"
   ]
  },
  {
   "cell_type": "markdown",
   "id": "entertaining-motivation",
   "metadata": {},
   "source": [
    "Ce qui permet de passer les éléments d'un type de collection à un autre, par recopie :"
   ]
  },
  {
   "cell_type": "code",
   "execution_count": null,
   "id": "serious-reminder",
   "metadata": {},
   "outputs": [],
   "source": [
    "Collection<String> c = new ArrayList<>();\n",
    "c.add(\"un\");\n",
    "c.add(\"deux\");\n",
    "c.add(\"trois\");\n",
    "\n",
    "Collection<String> c2 = new HashSet<>(c);\n",
    "\n",
    "System.out.println(c.getClass() + \" | \" + c);\n",
    "System.out.println(c2.getClass() + \" | \" + c2);"
   ]
  },
  {
   "cell_type": "markdown",
   "id": "outer-longer",
   "metadata": {},
   "source": [
    "Mais attention, il s'agit bien de recopie : toute modification à posteriori ne sera pas recopiée !"
   ]
  },
  {
   "cell_type": "code",
   "execution_count": null,
   "id": "wrapped-married",
   "metadata": {},
   "outputs": [],
   "source": [
    "c.remove(\"un\");\n",
    "System.out.println(c.getClass() + \" | \" + c);\n",
    "System.out.println(c2.getClass() + \" | \" + c2);"
   ]
  },
  {
   "cell_type": "markdown",
   "id": "numeric-nature",
   "metadata": {},
   "source": [
    "### Itérer sur une `Map`\n",
    "\n",
    "Comment faire pour itérer sur une `Map` alors que l'interface `Map` n'étend pas `Iterable` ?\n",
    "`Map` propose trois méthodes (cf. [documentation sur `Map<K, V>`](https://docs.oracle.com/en/java/javase/11/docs/api/java.base/java/util/Map.html)):\n",
    "\n",
    "- `Set<K> keySet()` : retourne un `Set` des clefs.\n",
    "- `Collection<V> values()` : retourne une `Collection` des valeurs.\n",
    "- `Set<Map.Entry<K,V>> entrySet()` : retourne un `Set` de `Map.Entry<K, V>` (cf. [documentation sur `Map.Entry<K, V>`](https://docs.oracle.com/en/java/javase/11/docs/api/java.base/java/util/Map.Entry.html))."
   ]
  },
  {
   "cell_type": "code",
   "execution_count": null,
   "id": "stock-agency",
   "metadata": {},
   "outputs": [],
   "source": [
    "Map<String, Integer> compteurPoints = new HashMap<>();\n",
    "compteurPoints.put(\"Nicolas\", 0);\n",
    "compteurPoints.put(\"Jean-Michel\", 5);\n",
    "compteurPoints.put(\"Jeanne-Micheline\", 10);"
   ]
  },
  {
   "cell_type": "code",
   "execution_count": null,
   "id": "proved-species",
   "metadata": {},
   "outputs": [],
   "source": [
    "for (String key : compteurPoints.keySet()) {\n",
    "    System.out.println(\"key: \" + key + \" | compteurPoints.get(key): \" + compteurPoints.get(key));\n",
    "}"
   ]
  },
  {
   "cell_type": "code",
   "execution_count": null,
   "id": "descending-startup",
   "metadata": {},
   "outputs": [],
   "source": [
    "for (Integer value : compteurPoints.values()) {\n",
    "    System.out.println(value);\n",
    "}"
   ]
  },
  {
   "cell_type": "code",
   "execution_count": null,
   "id": "mighty-strength",
   "metadata": {},
   "outputs": [],
   "source": [
    "for (Map.Entry<String, Integer> entry : compteurPoints.entrySet()) {\n",
    "    System.out.println(\"entry: \" + entry + \" | entry.getKey(): \" + entry.getKey() + \" | entry.getValue(): \" + entry.getValue());\n",
    "}"
   ]
  },
  {
   "cell_type": "markdown",
   "id": "damaged-arizona",
   "metadata": {},
   "source": [
    "## Interface `Comparator<E>`"
   ]
  },
  {
   "cell_type": "code",
   "execution_count": null,
   "id": "potential-christmas",
   "metadata": {},
   "outputs": [],
   "source": [
    "class ReverseIntegerComparator implements Comparator<Integer> { \n",
    "    public int compare(Integer i1, Integer i2) {\n",
    "        return i2 - i1;\n",
    "    }\n",
    "}\n",
    "\n",
    "List<Integer> integerList = new ArrayList<>();\n",
    "integerList.add(5);\n",
    "integerList.add(2);\n",
    "integerList.add(9);\n",
    "integerList.add(7);\n",
    "\n",
    "Collections.sort(integerList);\n",
    "System.out.println(integerList);\n",
    "\n",
    "Collections.sort(integerList, new ReverseIntegerComparator());\n",
    "System.out.println(integerList);"
   ]
  },
  {
   "cell_type": "code",
   "execution_count": null,
   "id": "willing-hampton",
   "metadata": {},
   "outputs": [],
   "source": [
    "class ReverseStringComparator implements Comparator<String> { \n",
    "    public int compare(String s1, String s2) {\n",
    "        return s2.compareTo(s1);\n",
    "    }\n",
    "}\n",
    "\n",
    "List<String> stringList = new ArrayList<>();\n",
    "stringList.add(\"TATA\");\n",
    "stringList.add(\"TOTO\");\n",
    "stringList.add(\"TITI\");\n",
    "stringList.add(\"TOTO\");\n",
    "\n",
    "Collections.sort(stringList);\n",
    "System.out.println(stringList);\n",
    "\n",
    "stringList.sort(new ReverseStringComparator());\n",
    "System.out.println(stringList);"
   ]
  },
  {
   "cell_type": "markdown",
   "id": "destroyed-extent",
   "metadata": {},
   "source": [
    "## Écrire une nouvelle classe générique"
   ]
  },
  {
   "cell_type": "code",
   "execution_count": null,
   "id": "mineral-coordinate",
   "metadata": {},
   "outputs": [],
   "source": [
    "class Person {\n",
    "    private String name;\n",
    "    public Person(String name) { this.name = name; }\n",
    "    public String getName() { return this.name; }\n",
    "}\n",
    "\n",
    "class Super<T> {\n",
    "    protected T secretIdentity;\n",
    "    protected String superpower;\n",
    "\n",
    "    public Super(T secretIdentity, String superpower) {\n",
    "        this.secretIdentity = secretIdentity;\n",
    "        this.superpower = superpower;\n",
    "    }\n",
    "\n",
    "    public T getSecretIdentity() { return this.secretIdentity; }\n",
    "    public String getSuperpower() { return this.superpower; }\n",
    "}"
   ]
  },
  {
   "cell_type": "code",
   "execution_count": null,
   "id": "vertical-madness",
   "metadata": {},
   "outputs": [],
   "source": [
    "Person clark = new Person(\"Clark Kent\");\n",
    "Super<Person> superman = new Super<>(clark, \"Kryptonian\");\n",
    "System.out.println(superman.getSuperpower());\n",
    "System.out.println(superman.getSecretIdentity().getName());"
   ]
  },
  {
   "cell_type": "code",
   "execution_count": null,
   "id": "greater-strengthening",
   "metadata": {},
   "outputs": [],
   "source": [
    "Super<Rectangle> superRectangle = new Super<>(new Rectangle(), \"Geometrie\");\n",
    "System.out.println(superRectangle.getSuperpower());\n",
    "superRectangle.getSecretIdentity().dessiner();"
   ]
  },
  {
   "cell_type": "markdown",
   "id": "pursuant-communist",
   "metadata": {},
   "source": [
    "# Exercice"
   ]
  },
  {
   "cell_type": "code",
   "execution_count": null,
   "id": "arabic-marriage",
   "metadata": {},
   "outputs": [],
   "source": [
    "public class Document {\n",
    "    private String title;\n",
    "    private List<String> authors;\n",
    "    \n",
    "    public Document(String title, List<String> authors) {\n",
    "        this.title = title;\n",
    "        this.authors = authors;\n",
    "    }\n",
    "    \n",
    "    public String toString() {\n",
    "        return String.format(\"Title: %s | Authors: %s\", title, authors);\n",
    "    }\n",
    "}"
   ]
  },
  {
   "cell_type": "code",
   "execution_count": null,
   "id": "solid-peoples",
   "metadata": {},
   "outputs": [],
   "source": [
    "public class Library {\n",
    "    private List documents;\n",
    "\n",
    "    public Library() {\n",
    "        documents = new ArrayList();\n",
    "    }\n",
    "\n",
    "    public void add(Document doc){\n",
    "        if (documents.contains(doc)) {\n",
    "            System.out.println(\"Document already exists!\");\n",
    "        } else {\n",
    "            documents.add(doc);\n",
    "        }\n",
    "    }\n",
    "\n",
    "    public String toString() {\n",
    "        String s = \"----------\\n\";\n",
    "        s += \"Library:\\n\";\n",
    "        for(Object doc : documents) {\n",
    "            s += doc + \"\\n\";\n",
    "        }\n",
    "        s += \"----------\";\n",
    "        \n",
    "        return s;\n",
    "    }\n",
    "}"
   ]
  },
  {
   "cell_type": "code",
   "execution_count": null,
   "id": "emerging-specification",
   "metadata": {},
   "outputs": [],
   "source": [
    "ArrayList<String> authors1 = new ArrayList<>();\n",
    "authors1.add(\"Albert Camus\");\n",
    "Document letranger = new Document(\"L'Étranger\", authors1);\n",
    "System.out.println(letranger);\n",
    "\n",
    "ArrayList<String> authors2 = new ArrayList<>();\n",
    "authors2.add(\"Terry Pratchett\");\n",
    "authors2.add(\"Stephen Baxter\");\n",
    "Document thelongearth = new Document(\"The Long Earth\", authors2);\n",
    "System.out.println(thelongearth);"
   ]
  },
  {
   "cell_type": "code",
   "execution_count": null,
   "id": "wrong-ireland",
   "metadata": {},
   "outputs": [],
   "source": [
    "Library babel = new Library();\n",
    "babel.add(thelongearth);\n",
    "babel.add(letranger);\n",
    "\n",
    "System.out.println(babel);"
   ]
  },
  {
   "cell_type": "markdown",
   "id": "intermediate-bloom",
   "metadata": {},
   "source": [
    "### Objectifs\n",
    "- Créer un comparateur qui permettra d’ordonner selon le 1er auteur (utilisé lors d’un tri)\n",
    "- Modifier la classe `Library` pour utiliser une collection générique\n",
    "- Modifier la méthode `toString()` pour se servir du comparateur et afficher par ordre alphabétique"
   ]
  },
  {
   "cell_type": "code",
   "execution_count": null,
   "id": "mexican-sphere",
   "metadata": {},
   "outputs": [],
   "source": []
  },
  {
   "cell_type": "code",
   "execution_count": null,
   "id": "british-broad",
   "metadata": {},
   "outputs": [],
   "source": [
    "Collection c = new HashSet<>();\n",
    "c.add(2);\n",
    "c.add(3);\n",
    "c.add(1);\n",
    "\n",
    "System.out.println(c.getClass());"
   ]
  },
  {
   "cell_type": "code",
   "execution_count": null,
   "id": "promotional-province",
   "metadata": {},
   "outputs": [],
   "source": [
    "List l = new ArrayList<>(c);\n",
    "System.out.println(l.getClass());"
   ]
  },
  {
   "cell_type": "code",
   "execution_count": null,
   "id": "nuclear-advocate",
   "metadata": {},
   "outputs": [],
   "source": []
  }
 ],
 "metadata": {
  "kernelspec": {
   "display_name": "Java",
   "language": "java",
   "name": "java"
  },
  "language_info": {
   "codemirror_mode": "java",
   "file_extension": ".jshell",
   "mimetype": "text/x-java-source",
   "name": "Java",
   "pygments_lexer": "java",
   "version": "11.0.7+10"
  }
 },
 "nbformat": 4,
 "nbformat_minor": 5
}
