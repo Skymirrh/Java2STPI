{
 "cells": [
  {
   "cell_type": "markdown",
   "id": "considered-skiing",
   "metadata": {},
   "source": [
    "# TD1"
   ]
  },
  {
   "cell_type": "markdown",
   "id": "applied-vanilla",
   "metadata": {},
   "source": [
    "## Exercices : rappels algorithmiques"
   ]
  },
  {
   "cell_type": "markdown",
   "id": "polish-lightweight",
   "metadata": {},
   "source": [
    "Compléter la méthode suivante afin qu'elle rende la moyenne de 2 nombres réels :"
   ]
  },
  {
   "cell_type": "code",
   "execution_count": null,
   "id": "liberal-tamil",
   "metadata": {},
   "outputs": [],
   "source": [
    "double moyenne(double a, double b) {\n",
    "    // à compléter\n",
    "}\n",
    "\n",
    "System.out.println(moyenne(5,10));\n",
    "System.out.println(moyenne(2.5,7.5));"
   ]
  },
  {
   "cell_type": "markdown",
   "id": "coordinated-european",
   "metadata": {},
   "source": [
    "Compléter la méthode suivante qui recherche si un entier est présent dans un tableau :"
   ]
  },
  {
   "cell_type": "code",
   "execution_count": null,
   "id": "direct-exhibition",
   "metadata": {},
   "outputs": [],
   "source": [
    "boolean contient(int[] ensemble, int valeur) {\n",
    "    // à compléter\n",
    "}\n",
    "\n",
    "int[] ensemble = new int[] { 10, 5, 6 };\n",
    "System.out.println(contient(ensemble, 3));\n",
    "System.out.println(contient(ensemble, 5));"
   ]
  },
  {
   "cell_type": "markdown",
   "id": "biblical-illinois",
   "metadata": {},
   "source": [
    "## Classe `Point`"
   ]
  },
  {
   "cell_type": "code",
   "execution_count": null,
   "id": "frank-continent",
   "metadata": {},
   "outputs": [],
   "source": [
    "public class Point {\n",
    "    private int x;\n",
    "    private int y;\n",
    "    \n",
    "    public int x() {\n",
    "        return this.x;\n",
    "    }\n",
    "    \n",
    "    public int y() {\n",
    "        return y;\n",
    "    }\n",
    "    \n",
    "    public Point(int cx, int cy) {\n",
    "        this.x = cx;\n",
    "        y = cy;\n",
    "    }\n",
    "    \n",
    "    public void deplace(int dx, int dy) {\n",
    "        this.x += dx;\n",
    "        y += dy;\n",
    "    }\n",
    "    \n",
    "    public void deplace(int d) {\n",
    "        this.x += d;\n",
    "        y += d;\n",
    "    }\n",
    "}"
   ]
  },
  {
   "cell_type": "code",
   "execution_count": null,
   "id": "innovative-column",
   "metadata": {},
   "outputs": [],
   "source": [
    "Point p1 = new Point(10, 10);\n",
    "Point p2 = new Point(20, 20);\n",
    "System.out.println(\"p1 : (\" + p1.x() + \",\" + p1.y() + \")\");\n",
    "System.out.println(\"p2 : (\" + p2.x() + \",\" + p2.y() + \")\");\n",
    "p2.deplace(1,1);\n",
    "System.out.println(\"p2 après deplacement de (1,1) : (\" + p2.x() + \",\" + p2.y() + \")\");"
   ]
  },
  {
   "cell_type": "markdown",
   "id": "requested-musical",
   "metadata": {},
   "source": [
    "### Objets et références"
   ]
  },
  {
   "cell_type": "code",
   "execution_count": null,
   "id": "ordinary-relative",
   "metadata": {},
   "outputs": [],
   "source": [
    "Point p1 = new Point(10, 10);\n",
    "Point p2 = new Point(20, 20);\n",
    "System.out.println(\"p1 : (\" + p1.x() + \",\" + p1.y() + \") | référence : \" + p1);\n",
    "System.out.println(\"p2 : (\" + p2.x() + \",\" + p2.y() + \") | référence : \" + p2);"
   ]
  },
  {
   "cell_type": "code",
   "execution_count": null,
   "id": "sapphire-certificate",
   "metadata": {},
   "outputs": [],
   "source": [
    "p1.deplace(1, 1);\n",
    "p2.deplace(2, 2);\n",
    "System.out.println(\"p1 : (\" + p1.x() + \",\" + p1.y() + \") | référence : \" + p1);\n",
    "System.out.println(\"p2 : (\" + p2.x() + \",\" + p2.y() + \") | référence : \" + p2);"
   ]
  },
  {
   "cell_type": "code",
   "execution_count": null,
   "id": "ideal-outreach",
   "metadata": {},
   "outputs": [],
   "source": [
    "p1 = p2;\n",
    "System.out.println(\"p1 : (\" + p1.x() + \",\" + p1.y() + \") | référence : \" + p1);\n",
    "System.out.println(\"p2 : (\" + p2.x() + \",\" + p2.y() + \") | référence : \" + p2);"
   ]
  },
  {
   "cell_type": "code",
   "execution_count": null,
   "id": "junior-ferry",
   "metadata": {},
   "outputs": [],
   "source": [
    "p1.deplace(1, 1);\n",
    "p2.deplace(2, 2);\n",
    "System.out.println(\"p1 : (\" + p1.x() + \",\" + p1.y() + \") | référence : \" + p1);\n",
    "System.out.println(\"p2 : (\" + p2.x() + \",\" + p2.y() + \") | référence : \" + p2);"
   ]
  },
  {
   "cell_type": "markdown",
   "id": "according-doctrine",
   "metadata": {},
   "source": [
    "### Types primitifs"
   ]
  },
  {
   "cell_type": "code",
   "execution_count": null,
   "id": "absolute-graduation",
   "metadata": {},
   "outputs": [],
   "source": [
    "int a = 10;\n",
    "int b = 20;\n",
    "System.out.println(\"a : \" + a);\n",
    "System.out.println(\"b : \" + b);"
   ]
  },
  {
   "cell_type": "code",
   "execution_count": null,
   "id": "advisory-platform",
   "metadata": {},
   "outputs": [],
   "source": [
    "a += 1;\n",
    "b += 2;\n",
    "System.out.println(\"a : \" + a);\n",
    "System.out.println(\"b : \" + b);"
   ]
  },
  {
   "cell_type": "code",
   "execution_count": null,
   "id": "african-russian",
   "metadata": {},
   "outputs": [],
   "source": [
    "a = b;\n",
    "System.out.println(\"a : \" + a);\n",
    "System.out.println(\"b : \" + b);"
   ]
  },
  {
   "cell_type": "code",
   "execution_count": null,
   "id": "graphic-shannon",
   "metadata": {},
   "outputs": [],
   "source": [
    "a += 1;\n",
    "b += 2;\n",
    "System.out.println(\"a : \" + a);\n",
    "System.out.println(\"b : \" + b);"
   ]
  },
  {
   "cell_type": "markdown",
   "id": "documentary-stocks",
   "metadata": {},
   "source": [
    "## Exercice : rappels programmation orientée objet"
   ]
  },
  {
   "cell_type": "markdown",
   "id": "ranging-cheese",
   "metadata": {},
   "source": [
    "Écrire un classe Cercle correspondant aux spécifications suivantes :\n",
    "- 3 attributs réels pour les coordonnées de son centre, et son rayon\n",
    "- un constructeur à partir de 3 valeurs `x`, `y`, `rayon`\n",
    "- une méthode `valRayon()` qui rend la valeur du rayon en résultat\n",
    "- une méthode `chgRayon(…)` qui permet de modifier le rayon\n",
    "- une méthode `valCentre()` qui rend les coordonnées du point centre du cercle\n",
    "- une méthode `deplace(…)` qui permet de translater le centre en fonction de 2 valeurs `dx` et `dy`\n",
    "- … (et d’autres si vous les jugez utiles) …"
   ]
  },
  {
   "cell_type": "code",
   "execution_count": null,
   "id": "composed-swimming",
   "metadata": {},
   "outputs": [],
   "source": [
    "public class Cercle {\n",
    "    // à compléter\n",
    "}"
   ]
  },
  {
   "cell_type": "markdown",
   "id": "structured-anthony",
   "metadata": {},
   "source": [
    "## Égalité d'objets"
   ]
  },
  {
   "cell_type": "code",
   "execution_count": null,
   "id": "sixth-oklahoma",
   "metadata": {},
   "outputs": [],
   "source": [
    "Point p1 = new Point(10, 10);\n",
    "Point p2 = new Point(20, 20);\n",
    "Point p3 = new Point(10, 10);\n",
    "Point p4 = p1;\n",
    "System.out.println(\"p1 == p2 : \" + (p1 == p2));\n",
    "System.out.println(\"p1 == p3 : \" + (p1 == p3));\n",
    "System.out.println(\"p1 == p4 : \" + (p1 == p4));\n",
    "System.out.println(\"p1.equals(p2) : \" + p1.equals(p2));\n",
    "System.out.println(\"p1.equals(p3) : \" + p1.equals(p3));\n",
    "System.out.println(\"p1.equals(p4) : \" + p1.equals(p4));"
   ]
  },
  {
   "cell_type": "markdown",
   "id": "acceptable-basis",
   "metadata": {},
   "source": [
    "Ajouter la surchage de méthode `equals(Point p)` suivante dans la classe `Point` plus haut. Qu'est-ce que cela va changer dans l'exécution des égalités ci-dessus ?"
   ]
  },
  {
   "cell_type": "code",
   "execution_count": null,
   "id": "industrial-fence",
   "metadata": {},
   "outputs": [],
   "source": [
    "    public boolean equals(Point p) {\n",
    "        return this.x == p.x && this.y == p.y;\n",
    "    }"
   ]
  },
  {
   "cell_type": "markdown",
   "id": "frank-founder",
   "metadata": {},
   "source": [
    "## Classe `Rectangle`"
   ]
  },
  {
   "cell_type": "code",
   "execution_count": null,
   "id": "complete-sample",
   "metadata": {},
   "outputs": [],
   "source": [
    "public class Rectangle {\n",
    "    private Point pHG;\n",
    "    private Point pBD;\n",
    "    \n",
    "    public Rectangle(Point p1, Point p2) {\n",
    "        this.pHG = p1;\n",
    "        this.pBD = p2;\n",
    "    }\n",
    "    \n",
    "    public void deplace(int dx, int dy) {\n",
    "        this.pHG.deplace(dx, dy);\n",
    "        this.pBD.deplace(dx, dy);\n",
    "    }\n",
    "    \n",
    "    public void affiche() {\n",
    "        System.out.println(\"Rectangle : (\" + pHG.x() + \",\" + pHG.y() + \") (\" + pBD.x() + \",\" + pBD.y() + \")\");\n",
    "    }\n",
    "}"
   ]
  },
  {
   "cell_type": "code",
   "execution_count": null,
   "id": "proper-shoulder",
   "metadata": {},
   "outputs": [],
   "source": [
    "Point p1 = new Point(5,5);\n",
    "Rectangle r1 = new Rectangle (p1, new Point(10,10));\n",
    "r1.affiche();\n",
    "System.out.println(\"deplacement\");\n",
    "r1.deplace(1,1);\n",
    "r1.affiche();\n",
    "System.out.println(\"p1 : (\" + p1.x() + \",\" + p1.y() + \")\");"
   ]
  },
  {
   "cell_type": "markdown",
   "id": "involved-section",
   "metadata": {},
   "source": [
    "## Copies superficielles et profondes"
   ]
  },
  {
   "cell_type": "markdown",
   "id": "valid-bernard",
   "metadata": {},
   "source": [
    "Ajouter les méthodes suivantes dans la classe `Point` plus haut :"
   ]
  },
  {
   "cell_type": "code",
   "execution_count": null,
   "id": "impaired-bunny",
   "metadata": {},
   "outputs": [],
   "source": [
    "    public Rectangle faireRectangleCopieSuperficielle(int d) {\n",
    "        Point a = this;\n",
    "        a.deplace(-d/2, -d/2);\n",
    "        Point b = this;\n",
    "        b.deplace(d/2, d/2);\n",
    "        Rectangle r = new Rectangle(a, b);\n",
    "        return r;\n",
    "    }\n",
    "    \n",
    "    // constructeur par recopie\n",
    "    public Point(Point p) {\n",
    "        this.x = p.x;\n",
    "        y = p.y;\n",
    "    }\n",
    "    \n",
    "    public Rectangle faireRectangleCopieProfonde(int d) {\n",
    "        Point a = new Point(this);\n",
    "        a.deplace(-d/2, -d/2);\n",
    "        Point b = new Point(this);\n",
    "        b.deplace(d/2, d/2);\n",
    "        Rectangle r = new Rectangle(a, b);\n",
    "        return r;\n",
    "    }"
   ]
  },
  {
   "cell_type": "code",
   "execution_count": null,
   "id": "quantitative-electric",
   "metadata": {},
   "outputs": [],
   "source": [
    "Point p1 = new Point(5,5);\n",
    "Rectangle r1 = p1.faireRectangleCopieSuperficielle(10);\n",
    "r1.affiche();"
   ]
  },
  {
   "cell_type": "code",
   "execution_count": null,
   "id": "conscious-hardwood",
   "metadata": {},
   "outputs": [],
   "source": [
    "Point p1 = new Point(5,5);\n",
    "Rectangle r1 = p1.faireRectangleCopieProfonde(10);\n",
    "r1.affiche();"
   ]
  }
 ],
 "metadata": {
  "kernelspec": {
   "display_name": "Java",
   "language": "java",
   "name": "java"
  },
  "language_info": {
   "codemirror_mode": "java",
   "file_extension": ".jshell",
   "mimetype": "text/x-java-source",
   "name": "Java",
   "pygments_lexer": "java",
   "version": "11.0.7+10"
  }
 },
 "nbformat": 4,
 "nbformat_minor": 5
}
