{
 "cells": [
  {
   "cell_type": "markdown",
   "id": "pacific-cholesterol",
   "metadata": {},
   "source": [
    "# TD7"
   ]
  },
  {
   "cell_type": "markdown",
   "id": "necessary-ferry",
   "metadata": {},
   "source": [
    "## Comparaison de deux algorithmes de recherche"
   ]
  },
  {
   "cell_type": "code",
   "execution_count": null,
   "id": "delayed-minister",
   "metadata": {},
   "outputs": [],
   "source": [
    "public int cherche1(int[] tab, int x) {\n",
    "    int sol = -1;\n",
    "    for (int i = 0; i < tab.length; i++) {\n",
    "        if (tab[i] == x) {\n",
    "            sol = i;\n",
    "        }\n",
    "    }\n",
    "    return sol;\n",
    "}"
   ]
  },
  {
   "cell_type": "code",
   "execution_count": null,
   "id": "structural-durham",
   "metadata": {},
   "outputs": [],
   "source": [
    "public int cherche2(int[] tab, int x) {\n",
    "    for (int i = 0; i < tab.length; i++) {\n",
    "        if (tab[i] == x) {\n",
    "            return i;\n",
    "        }\n",
    "    }\n",
    "    return -1;\n",
    "}"
   ]
  },
  {
   "cell_type": "code",
   "execution_count": null,
   "id": "standard-labor",
   "metadata": {},
   "outputs": [],
   "source": [
    "int[] tab = new int[] { 5, 4, 7, 8, 1 };\n",
    "System.out.println(\"cherche1: \" + cherche1(tab, 7));\n",
    "System.out.println(\"cherche2: \" + cherche2(tab, 7));"
   ]
  },
  {
   "cell_type": "markdown",
   "id": "bottom-relevance",
   "metadata": {},
   "source": [
    "### Mais lequel est le plus « efficace » ?"
   ]
  },
  {
   "cell_type": "code",
   "execution_count": null,
   "id": "million-punch",
   "metadata": {},
   "outputs": [],
   "source": [
    "public int cherche1(int[] tab, int x) {\n",
    "    int sol = -1;\n",
    "    for (int i = 0; i < tab.length; i++) {\n",
    "        System.out.println(i);\n",
    "        if (tab[i] == x) {\n",
    "            sol = i;\n",
    "        }\n",
    "    }\n",
    "    return sol;\n",
    "}"
   ]
  },
  {
   "cell_type": "code",
   "execution_count": null,
   "id": "limited-parks",
   "metadata": {},
   "outputs": [],
   "source": [
    "public int cherche2(int[] tab, int x) {\n",
    "    for (int i = 0; i < tab.length; i++) {\n",
    "        System.out.println(i);\n",
    "        if (tab[i] == x) {\n",
    "            return i;\n",
    "        }\n",
    "    }\n",
    "    return -1;\n",
    "}"
   ]
  },
  {
   "cell_type": "code",
   "execution_count": null,
   "id": "after-boulder",
   "metadata": {},
   "outputs": [],
   "source": [
    "int[] tab = new int[] { 5, 4, 7, 8, 1 };\n",
    "System.out.println(\"cherche1: \" + cherche1(tab, 7));\n",
    "System.out.println(\"cherche2: \" + cherche2(tab, 7));"
   ]
  },
  {
   "cell_type": "markdown",
   "id": "found-stock",
   "metadata": {},
   "source": [
    "## Ne pas confondre ce qu'on calcule avec la complexité du calcul"
   ]
  },
  {
   "cell_type": "code",
   "execution_count": null,
   "id": "dangerous-sewing",
   "metadata": {},
   "outputs": [],
   "source": [
    "int factorielle(int n) {\n",
    "    int complexite = 0;\n",
    "    int i = n;\n",
    "    int res = 1;\n",
    "    while (i > 0) {\n",
    "        res = res*i;\n",
    "        i--;\n",
    "        complexite += 2;\n",
    "    }\n",
    "    System.out.println(\"complexite factorielle : \" + complexite);\n",
    "    return res;\n",
    "}\n",
    "\n",
    "System.out.println(factorielle(5));"
   ]
  },
  {
   "cell_type": "code",
   "execution_count": null,
   "id": "considered-saint",
   "metadata": {},
   "outputs": [],
   "source": [
    "int puissance(int x, int n) {\n",
    "    int complexite = 0;\n",
    "    int i = n;\n",
    "    int res = 1;\n",
    "    while (i > 0) {\n",
    "        res = res*x;\n",
    "        i--;\n",
    "        complexite += 2;\n",
    "    }\n",
    "    System.out.println(\"complexite puissance : \" + complexite);\n",
    "    return res;\n",
    "}\n",
    "\n",
    "System.out.println(puissance(2, 5));"
   ]
  },
  {
   "cell_type": "markdown",
   "id": "composite-translation",
   "metadata": {},
   "source": [
    "## Comment calculer la complexité ?"
   ]
  },
  {
   "cell_type": "code",
   "execution_count": null,
   "id": "homeless-brighton",
   "metadata": {},
   "outputs": [],
   "source": [
    "public int[] calcul(int[] tab1, int[] tab2) {\n",
    "    int complexite = 0;\n",
    "    int[]  tab3 = new int[tab1.length];\n",
    "    for (int i = 0; i < tab1.length; i++) {\n",
    "        if (tab1[i] < tab2[i]) {\n",
    "            tab3[i] = factorielle(tab1[i]);\n",
    "            complexite += 1;\n",
    "        } else {\n",
    "            tab3[i] = i;\n",
    "            complexite += 1;\n",
    "        }\n",
    "    }\n",
    "    System.out.println(\"complexite calcul : \" + complexite);\n",
    "    return tab3;\n",
    "}"
   ]
  },
  {
   "cell_type": "markdown",
   "id": "pharmaceutical-guatemala",
   "metadata": {},
   "source": [
    "### Complexité au pire"
   ]
  },
  {
   "cell_type": "code",
   "execution_count": null,
   "id": "curious-grammar",
   "metadata": {},
   "outputs": [],
   "source": [
    "int[] tab1 = new int[] { 2, 3, 4 };\n",
    "int[] tab2 = new int[] { 5, 5, 5 };\n",
    "System.out.println(Arrays.toString(calcul(tab1, tab2)));"
   ]
  },
  {
   "cell_type": "markdown",
   "id": "suspected-secret",
   "metadata": {},
   "source": [
    "### Complexité au mieux"
   ]
  },
  {
   "cell_type": "code",
   "execution_count": null,
   "id": "integral-brunswick",
   "metadata": {},
   "outputs": [],
   "source": [
    "int[] tab1 = new int[] { 5, 6, 7 };\n",
    "int[] tab2 = new int[] { 5, 5, 5 };\n",
    "System.out.println(Arrays.toString(calcul(tab1, tab2)));"
   ]
  },
  {
   "cell_type": "markdown",
   "id": "lasting-timber",
   "metadata": {},
   "source": [
    "## Exercice : donner la complexité au pire de l'algorithme suivant"
   ]
  },
  {
   "cell_type": "code",
   "execution_count": null,
   "id": "polyphonic-advice",
   "metadata": {},
   "outputs": [],
   "source": [
    "int m = 5;\n",
    "int n = 4;\n",
    "int p = 6;\n",
    "int[][] matM = new int[m][n];\n",
    "int[][] matN = new int[n][p];\n",
    "int[][] matP = new int[m][p];\n",
    "\n",
    "for (int i = 0; i < m; i++) {\n",
    "    for (int j = 0; j < p; j++) {\n",
    "        matP[i][j] = 0;\n",
    "        for (int k = 0; k < n; k++) {\n",
    "            matP[i][j] = matP[i][j] + matM[i][k] * matN[k][j];\n",
    "        }\n",
    "    }\n",
    "}"
   ]
  },
  {
   "cell_type": "markdown",
   "id": "veterinary-theorem",
   "metadata": {},
   "source": [
    "# Pourquoi trier ?"
   ]
  },
  {
   "cell_type": "code",
   "execution_count": null,
   "id": "nutritional-glossary",
   "metadata": {},
   "outputs": [],
   "source": [
    "boolean recherche(int v, int[] tab) {\n",
    "    int complexite = 0;\n",
    "    for (int i = 0 ; i < tab.length ; i++) {\n",
    "        complexite++;\n",
    "        if (tab[i] == v) {\n",
    "            System.out.println(\"complexite recherche : \" + complexite);\n",
    "            return true;\n",
    "        }\n",
    "    }\n",
    "    System.out.println(\"complexite recherche : \" + complexite);\n",
    "    return false;\n",
    "}"
   ]
  },
  {
   "cell_type": "code",
   "execution_count": null,
   "id": "reasonable-protein",
   "metadata": {},
   "outputs": [],
   "source": [
    "boolean rechercheDichotomique(int v, int[] tab, int deb, int fin) {\n",
    "    System.out.println(\"complexite rechercheDichotomique\");\n",
    "    if (deb == fin) {\n",
    "        if (tab[deb] == v) { return true;  }\n",
    "        else { return false; }\n",
    "    } else {\n",
    "        int k = (deb + fin) / 2; // on coupe en 2 l'espace de recherche\n",
    "        if (tab[k] < v) { return rechercheDichotomique(v, tab, k + 1, fin); }\n",
    "        else { return rechercheDichotomique(v, tab, deb, k); }\n",
    "    }\n",
    "}\n",
    "\n",
    "boolean rechercheDichotomique(int v, int[] tab) {\n",
    "    return rechercheDichotomique(v, tab, 0, tab.length - 1);\n",
    "}"
   ]
  },
  {
   "cell_type": "code",
   "execution_count": null,
   "id": "registered-devon",
   "metadata": {},
   "outputs": [],
   "source": [
    "int[] tab = new int[] { 5, 4, 7, 8, 1, 2, 3, 6, 9, 10 };\n",
    "System.out.println(recherche(10, tab));"
   ]
  },
  {
   "cell_type": "code",
   "execution_count": null,
   "id": "further-citation",
   "metadata": {},
   "outputs": [],
   "source": [
    "int[] tab = new int[] { 1, 2, 3, 4, 5, 6, 7, 8, 9, 10 };\n",
    "System.out.println(rechercheDichotomique(10, tab));"
   ]
  }
 ],
 "metadata": {
  "kernelspec": {
   "display_name": "Java",
   "language": "java",
   "name": "java"
  },
  "language_info": {
   "codemirror_mode": "java",
   "file_extension": ".jshell",
   "mimetype": "text/x-java-source",
   "name": "Java",
   "pygments_lexer": "java",
   "version": "11.0.7+10"
  }
 },
 "nbformat": 4,
 "nbformat_minor": 5
}
