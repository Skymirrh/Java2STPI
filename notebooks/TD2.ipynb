{
 "cells": [
  {
   "cell_type": "markdown",
   "id": "norman-least",
   "metadata": {},
   "source": [
    "# TD2"
   ]
  },
  {
   "cell_type": "markdown",
   "id": "falling-galaxy",
   "metadata": {},
   "source": [
    "## Classe de base / classe mère : `Personne`"
   ]
  },
  {
   "cell_type": "code",
   "execution_count": null,
   "id": "lesser-portfolio",
   "metadata": {},
   "outputs": [],
   "source": [
    "public class Personne {\n",
    "    private int age;\n",
    "    private String nom;\n",
    "\n",
    "    public Personne(int a, String n) {\n",
    "        this.age = a;\n",
    "        this.nom = n;\n",
    "    }\n",
    "    \n",
    "    public Personne(Personne p) {\n",
    "        this.age = p.age;\n",
    "        this.nom = p.nom;\n",
    "    }\n",
    "\n",
    "    public int age() { return this.age; }\n",
    "    public String nom() { return this.nom; }    \n",
    "\n",
    "    public void miseAJour(int a, String n) {\n",
    "        System.out.println(\"Personne.miseAJour(int, String)\");\n",
    "        this.nom = n;\n",
    "        this.age = a;\n",
    "    }\n",
    "    \n",
    "    public void miseAJour() {\n",
    "        System.out.println(\"Personne.miseAJour()\");\n",
    "        this.nom = \"?\";\n",
    "        this.age = 0;\n",
    "    }\n",
    "\n",
    "    public String toString() {\n",
    "        return (\"[Personne] Nom : \" + this.nom + \" | Âge : \" + this.age);\n",
    "    }\n",
    "}"
   ]
  },
  {
   "cell_type": "markdown",
   "id": "informational-threshold",
   "metadata": {},
   "source": [
    "## Classe dérivée / classe fille : `Employe`"
   ]
  },
  {
   "cell_type": "code",
   "execution_count": null,
   "id": "piano-feelings",
   "metadata": {},
   "outputs": [],
   "source": [
    "public class Employe extends Personne {\n",
    "    private int salaire;\n",
    "\n",
    "    public Employe(int a, String n, int s) {\n",
    "        super(a,n); \n",
    "        this.salaire = s;\n",
    "    }\n",
    "    \n",
    "    public Employe(Personne p, int s) {\n",
    "        super(p);\n",
    "        this.salaire = s;\n",
    "    }\n",
    "    \n",
    "    public int salaire() { return this.salaire; }\n",
    "}"
   ]
  },
  {
   "cell_type": "markdown",
   "id": "ready-thermal",
   "metadata": {},
   "source": [
    "## Héritage des attributs et méthodes"
   ]
  },
  {
   "cell_type": "code",
   "execution_count": null,
   "id": "acting-substitute",
   "metadata": {},
   "outputs": [],
   "source": [
    "Personne p1 = new Personne(29, \"toto\");\n",
    "Employe e2 = new Employe(p1, 4000);\n",
    "Employe e3 = new Employe(20, \"titi\", 1000);\n",
    "System.out.println(e2.nom());\n",
    "System.out.println(e3.age());\n",
    "System.out.println(p1);\n",
    "System.out.println(e2);\n",
    "System.out.println(e3);"
   ]
  },
  {
   "cell_type": "code",
   "execution_count": null,
   "id": "indie-tennis",
   "metadata": {},
   "outputs": [],
   "source": [
    "e2.miseAJour(35, \"tutu\");\n",
    "e3.miseAJour();\n",
    "System.out.println(e2);\n",
    "System.out.println(e3);"
   ]
  },
  {
   "cell_type": "markdown",
   "id": "original-savannah",
   "metadata": {},
   "source": [
    "## Enrichissement et redéfinition (override)"
   ]
  },
  {
   "cell_type": "markdown",
   "id": "timely-polymer",
   "metadata": {},
   "source": [
    "Ajouter les méthodes suivantes dans la classe `Employe` :"
   ]
  },
  {
   "cell_type": "code",
   "execution_count": null,
   "id": "fifth-legend",
   "metadata": {},
   "outputs": [],
   "source": [
    "    public void miseAJour(int a, String n, int s) {\n",
    "        System.out.println(\"Employe.miseAJour(int, String, int)\");\n",
    "        this.miseAJour(a, n);\n",
    "        this.salaire = s;\n",
    "    }\n",
    "    \n",
    "    public void miseAJour() {\n",
    "        System.out.println(\"Employe.miseAJour()\");\n",
    "        super.miseAJour();\n",
    "        this.salaire = 0;\n",
    "    }\n",
    "    \n",
    "    public String toString() {\n",
    "        return (\"[Employe] Nom : \" + this.nom() + \" | Âge : \" + this.age() + \" | Salaire : \" + this.salaire );\n",
    "    }"
   ]
  },
  {
   "cell_type": "code",
   "execution_count": null,
   "id": "complicated-fountain",
   "metadata": {},
   "outputs": [],
   "source": [
    "Personne p1 = new Personne(29, \"toto\");\n",
    "Employe e2 = new Employe(p1, 4000);\n",
    "System.out.println(p1);\n",
    "System.out.println(e2);\n",
    "\n",
    "e2.miseAJour(20, e2.nom() + \" MAJ\", 6000);\n",
    "System.out.println(e2);\n",
    "\n",
    "e2.miseAJour();\n",
    "System.out.println(e2);"
   ]
  },
  {
   "cell_type": "markdown",
   "id": "attended-respondent",
   "metadata": {},
   "source": [
    "## Polymorphisme"
   ]
  },
  {
   "cell_type": "code",
   "execution_count": null,
   "id": "vanilla-allergy",
   "metadata": {},
   "outputs": [],
   "source": [
    "Personne p1 = new Personne(29, \"toto\");\n",
    "Employe e1 = new Employe(29, \"titi\", 7000);\n",
    "Personne p2 = new Employe(29, \"titi\", 7000);\n",
    "Employe e2 = (Employe)p2;\n",
    "\n",
    "System.out.println(\"p1\");\n",
    "p1.miseAJour();\n",
    "\n",
    "System.out.println(\"e1\");\n",
    "e1.miseAJour();\n",
    "\n",
    "System.out.println(\"p2\");\n",
    "p2.miseAJour();\n",
    "\n",
    "e2.salaire();"
   ]
  },
  {
   "cell_type": "code",
   "execution_count": null,
   "id": "grateful-intro",
   "metadata": {},
   "outputs": [],
   "source": [
    "Personne p1 = new Personne(29, \"toto\");\n",
    "Personne p2 = new Personne(27, \"tata\");\n",
    "Employe e1 = new Employe(29, \"titi\", 7000);\n",
    "Personne p3 = new Employe(34, \"tutu\", 4000);\n",
    "\n",
    "Personne[] tabPers = new Personne[4];\n",
    "tabPers[0] = p1;\n",
    "tabPers[1] = p2;\n",
    "tabPers[2] = e1;\n",
    "tabPers[3] = p3;\n",
    "\n",
    "for (int i=0; i < tabPers.length; i++) {\n",
    "    System.out.println(tabPers[i].toString());\n",
    "}"
   ]
  },
  {
   "cell_type": "markdown",
   "id": "compatible-rental",
   "metadata": {},
   "source": [
    "## Vérification (check) et conversion (cast) de type"
   ]
  },
  {
   "cell_type": "code",
   "execution_count": null,
   "id": "alike-swing",
   "metadata": {},
   "outputs": [],
   "source": [
    "Personne p1 = new Personne(29, \"toto\");\n",
    "Personne p2 = new Personne(27, \"tata\");\n",
    "Employe e1 = new Employe(29, \"titi\", 7000);\n",
    "\n",
    "Personne[] tabPers= new Personne[3];\n",
    "tabPers[0] = p1;\n",
    "tabPers[1] = p2;\n",
    "tabPers[2] = e1;\n",
    "\n",
    "for (int i=0; i < tabPers.length; i++) {\n",
    "    Personne p = tabPers[i];\n",
    "    System.out.println(p);\n",
    "    \n",
    "    System.out.println(p.salaire());\n",
    "    \n",
    "    if (p instanceof Employe) {\n",
    "        Employe e = (Employe)p;\n",
    "        System.out.println(e.salaire());\n",
    "    }\n",
    "}"
   ]
  },
  {
   "cell_type": "markdown",
   "id": "seventh-stylus",
   "metadata": {},
   "source": [
    "## Membres de classe (`static`)"
   ]
  },
  {
   "cell_type": "code",
   "execution_count": null,
   "id": "determined-brake",
   "metadata": {},
   "outputs": [],
   "source": [
    "public class Point {\n",
    "    private int x;\n",
    "    private int y;\n",
    "    private static int compteurPoints = 0;\n",
    "    \n",
    "    public static int getCompteurPoints() { return Point.compteurPoints; }\n",
    "    \n",
    "    public Point(int cx, int cy) {\n",
    "        this.x = cx;\n",
    "        this.y = cy;\n",
    "        compteurPoints++;\n",
    "    }\n",
    "}"
   ]
  },
  {
   "cell_type": "code",
   "execution_count": null,
   "id": "oriental-anatomy",
   "metadata": {},
   "outputs": [],
   "source": [
    "Point p1 = new Point(10, 10);\n",
    "Point p2 = new Point(20, 20);\n",
    "Point p3 = p2;\n",
    "System.out.println(\"compteur : \" + Point.getCompteurPoints());"
   ]
  }
 ],
 "metadata": {
  "kernelspec": {
   "display_name": "Java",
   "language": "java",
   "name": "java"
  },
  "language_info": {
   "codemirror_mode": "java",
   "file_extension": ".jshell",
   "mimetype": "text/x-java-source",
   "name": "Java",
   "pygments_lexer": "java",
   "version": "11.0.7+10"
  }
 },
 "nbformat": 4,
 "nbformat_minor": 5
}
